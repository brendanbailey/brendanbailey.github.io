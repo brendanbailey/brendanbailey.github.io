{
 "cells": [
  {
   "cell_type": "markdown",
   "metadata": {},
   "source": [
    "# Garnet Auto Check In with Selenium\n",
    "## 4/10/17 | [Brendan Bailey](https://brendanbailey.github.io/)\n",
    "\n",
    "Today I had my computer log into Garnet for me. For those not familiar with Garnet, it is General Assembly’s attendance system, and according to school policy if you are tardy more than five times you cannot receive the additional career support after course has finished. This policy makes complete sense because if General Assembly is building relationships with potential employers, they at minimum need to convey that their students were at least in class. However, I feel bad for those who get to class early and forget to sign in (It’s almost happened to me a couple of times!)."
   ]
  },
  {
   "cell_type": "markdown",
   "metadata": {},
   "source": [
    "[![Garnet Auto Check In](garnet_youtube.png)](https://www.youtube.com/watch?v=6g_GC0GYklw \"Garnet Auto Check In\")"
   ]
  },
  {
   "cell_type": "markdown",
   "metadata": {},
   "source": [
    "<center>**Click above for video**</center>"
   ]
  },
  {
   "cell_type": "markdown",
   "metadata": {},
   "source": [
    "The other reason why I picked this project is that I wanted to explore using Selenium. I did a lot browser automation at my previous job with iMacros. I macros are great for those who have little programming experience because you can just click record, and the program will record every action you do until you click stop. If you play the macro, the system will take the exact steps that you recorded. iMacros also generates a script based on what you recorded, which you can modify according to the task you need to accomplish. However, the free version of iMacros has limited flexibility. For example, you cannot implement conditionals or nested for loops. If you would like to have free reign of what you can do in the browser, and have the time to invest in writing the script then Selenium is a good choice. \n",
    "\n",
    "The script to use this is pretty simple, and below is a walkthrough of the code."
   ]
  },
  {
   "cell_type": "markdown",
   "metadata": {},
   "source": [
    "Here I'm importing relevant libraries"
   ]
  },
  {
   "cell_type": "code",
   "execution_count": 1,
   "metadata": {
    "collapsed": true
   },
   "outputs": [],
   "source": [
    "from urllib2 import urlopen\n",
    "import selenium\n",
    "from selenium import webdriver\n",
    "import time"
   ]
  },
  {
   "cell_type": "markdown",
   "metadata": {},
   "source": [
    "Users configure the script to enter the IP Address for their GA location, their GitHub credentials, and their course title."
   ]
  },
  {
   "cell_type": "code",
   "execution_count": null,
   "metadata": {
    "collapsed": true
   },
   "outputs": [],
   "source": [
    "#Configure the script\n",
    "config_ip = \"50.200.196.50\" #Your General Assembly Campus's IP Address\n",
    "config_username = #Your Github Username\n",
    "config_password = #Your Github Password\n",
    "config_link_text = \"DC DSI 4\" #Your course title in Garnet"
   ]
  },
  {
   "cell_type": "markdown",
   "metadata": {},
   "source": [
    "This function confirms that the user's current IP address is the same as their GA campus's IP address. According to our instructors, the system does check where people are logging in from."
   ]
  },
  {
   "cell_type": "code",
   "execution_count": 2,
   "metadata": {
    "collapsed": true
   },
   "outputs": [],
   "source": [
    "def right_ip(ga_ip):\n",
    "    if urlopen('https://ip.42.pl/raw').read() == ga_ip:\n",
    "        return True\n",
    "    else:\n",
    "        print \"Incorrect IP Address\"\n",
    "        return False"
   ]
  },
  {
   "cell_type": "markdown",
   "metadata": {},
   "source": [
    "The function below takes the users Github credentials and course name. It then opens a web browser, signs the user into Garnet, and clicks the sign in link."
   ]
  },
  {
   "cell_type": "code",
   "execution_count": 3,
   "metadata": {
    "collapsed": true
   },
   "outputs": [],
   "source": [
    "def click_link(url, ga_username, ga_password, link_text):\n",
    "    #Pull Up Firefox\n",
    "    driver = webdriver.Firefox()\n",
    "    driver.get(url)\n",
    "\n",
    "    #Github Sign In - They made this hard to automate...\n",
    "    driver.find_element_by_link_text(\"Sign in with Github\").click()\n",
    "    time.sleep(3)\n",
    "    username = driver.find_element_by_name(\"login\")\n",
    "    password = driver.find_element_by_name(\"password\")\n",
    "    username.send_keys(ga_username)\n",
    "    password.send_keys(ga_password)\n",
    "    driver.find_element_by_name(\"commit\").click()\n",
    "\n",
    "    #Click DSI 4 Link\n",
    "    time.sleep(5)\n",
    "    driver.find_element_by_link_text(link_text).click()\n",
    "\n",
    "    #Click on check in\n",
    "    time.sleep(5)\n",
    "    driver.find_element_by_xpath(\"/html/body/main/form[1]\").submit()\n",
    "    print \"Signed in to Garnet!\""
   ]
  },
  {
   "cell_type": "markdown",
   "metadata": {},
   "source": [
    "The final two lines executes the functions above. The first function is executed, and if the user has the same IP address as General Assembly, the script will sign the user into Garnet. If not, then the script will print to console that the user does not have the correct IP address to sign in."
   ]
  },
  {
   "cell_type": "code",
   "execution_count": null,
   "metadata": {
    "collapsed": true
   },
   "outputs": [],
   "source": [
    "if right_ip(config_ip) is True:\n",
    "    click_link(\"https://garnet.wdidc.org/\", config_username, config_password, config_link_text)"
   ]
  }
 ],
 "metadata": {
  "kernelspec": {
   "display_name": "Python 2",
   "language": "python",
   "name": "python2"
  },
  "language_info": {
   "codemirror_mode": {
    "name": "ipython",
    "version": 2
   },
   "file_extension": ".py",
   "mimetype": "text/x-python",
   "name": "python",
   "nbconvert_exporter": "python",
   "pygments_lexer": "ipython2",
   "version": "2.7.13"
  }
 },
 "nbformat": 4,
 "nbformat_minor": 0
}
